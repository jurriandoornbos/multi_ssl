{
 "cells": [
  {
   "cell_type": "code",
   "execution_count": null,
   "id": "76f1ed79-5c38-49d3-9e7b-e10ce701ab82",
   "metadata": {},
   "outputs": [],
   "source": [
    "\n",
    "import argparse\n",
    "from multissl.data import get_transform, tifffile_loader\n",
    "\n",
    "from multissl.models import build_model\n",
    "\n",
    "from multissl.plots import ImageSaverCallback, plot_first_batch\n",
    "import torch\n",
    "import pytorch_lightning as pl\n",
    "from lightly.data import LightlyDataset\n",
    "from lightly.transforms.multi_view_transform import MultiViewTransform\n",
    "import pytorch_lightning as pl\n",
    "import torch\n"
   ]
  },
  {
   "cell_type": "code",
   "execution_count": null,
   "id": "d7246a52-27ec-468d-ac0a-8e178e38d379",
   "metadata": {},
   "outputs": [],
   "source": [
    "\n",
    "pl.seed_everything(42)\n",
    "\n",
    "# Create a multiview transform that returns two different augmentations of each image.\n",
    "transform_multispectral = get_transform(img_size = 224, \n",
    "                                        std_noise  =0.5, \n",
    "                                        brightness_factor=0.2 ,\n",
    "                                        max_shift=0.2)\n",
    "tfs = [transform_multispectral for i in range(4)]\n",
    "\n",
    "transform_ms = MultiViewTransform(transforms=tfs)\n",
    "\n",
    "# Create a dataset from your image folder.\n",
    "dataset_train_ms = LightlyDataset(\n",
    "    input_dir = \"../../msdata/data/chipped_512\",\n",
    "    transform = transform_ms,\n",
    ")\n",
    "dataset_train_ms.dataset.loader = tifffile_loader\n",
    "\n",
    "length_dataset = len(dataset_train_ms)\n",
    "print(\"Loaded dataset, dataset size: \"+ str(length_dataset))\n"
   ]
  },
  {
   "cell_type": "code",
   "execution_count": null,
   "id": "5827f677-e722-4264-974d-a03f18acad2d",
   "metadata": {},
   "outputs": [],
   "source": [
    "\n",
    "# Build a PyTorch dataloader.\n",
    "dataloader_train_ms = torch.utils.data.DataLoader(\n",
    "    dataset_train_ms,                            # Pass the dataset to the dataloader.\n",
    "    batch_size=16,         # A large batch size helps with learning.\n",
    "    shuffle=True,                       # Shuffling is important!\n",
    "    drop_last = True,\n",
    "    num_workers=0,\n",
    ")\n"
   ]
  },
  {
   "cell_type": "code",
   "execution_count": null,
   "id": "e7ab82b9-52a5-47ae-991f-387e4fabefaa",
   "metadata": {},
   "outputs": [],
   "source": [
    "vis = next(iter(dataloader_train_ms))\n",
    "\n",
    "plot_first_batch(vis, output_dir = \"\")"
   ]
  },
  {
   "cell_type": "code",
   "execution_count": null,
   "id": "d59e8767-f927-4cf7-a252-82b183a7903b",
   "metadata": {},
   "outputs": [],
   "source": []
  },
  {
   "cell_type": "code",
   "execution_count": null,
   "id": "7218db2f-2cb3-4640-8060-f7c7ee6c93f5",
   "metadata": {},
   "outputs": [],
   "source": []
  }
 ],
 "metadata": {
  "kernelspec": {
   "display_name": "Python 3 (ipykernel)",
   "language": "python",
   "name": "python3"
  },
  "language_info": {
   "codemirror_mode": {
    "name": "ipython",
    "version": 3
   },
   "file_extension": ".py",
   "mimetype": "text/x-python",
   "name": "python",
   "nbconvert_exporter": "python",
   "pygments_lexer": "ipython3",
   "version": "3.9.0"
  }
 },
 "nbformat": 4,
 "nbformat_minor": 5
}
