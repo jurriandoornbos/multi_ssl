{
 "cells": [
  {
   "cell_type": "code",
   "execution_count": 1,
   "id": "36acf6a3-40e1-40fc-8490-f7da7279dd7f",
   "metadata": {},
   "outputs": [
    {
     "name": "stderr",
     "output_type": "stream",
     "text": [
      "C:\\Users\\judoj\\mambaforge\\envs\\lightly\\lib\\site-packages\\torchvision\\transforms\\v2\\_deprecated.py:42: UserWarning: The transform `ToTensor()` is deprecated and will be removed in a future release. Instead, please use `v2.Compose([v2.ToImage(), v2.ToDtype(torch.float32, scale=True)])`.Output is equivalent up to float precision.\n",
      "  warnings.warn(\n"
     ]
    }
   ],
   "source": [
    "import os \n",
    "import timm\n",
    "import torch\n",
    "import torch.nn as nn\n",
    "from PIL import Image\n",
    "from torchvision import transforms\n",
    "import pytorch_lightning as pl\n",
    "import matplotlib.pyplot as plt\n",
    "from lightly.data.dataset import LightlyDataset"
   ]
  },
  {
   "cell_type": "code",
   "execution_count": 2,
   "id": "e73f1a21-06bb-404d-87f5-b8b163211ebe",
   "metadata": {},
   "outputs": [],
   "source": [
    "from multissl.models import MSRGBConvNeXtUPerNet\n",
    "from multissl.plotting.rgb_batch import rgb_visualize_batch\n",
    "from multissl.data.instance_segmentation_dataset import COCOInstanceSegmentationDataset, get_instance_transforms,instance_segmentation_collate_fn"
   ]
  },
  {
   "cell_type": "code",
   "execution_count": 4,
   "id": "50f8eba2-9147-4546-897a-b5a1192d967d",
   "metadata": {},
   "outputs": [
    {
     "name": "stdout",
     "output_type": "stream",
     "text": [
      "Loading checkpoint from ../checkpoints_convnext_tiny/last.ckpt\n",
      "Unexpected keys: ['projection_head.layers.0.weight', 'projection_head.layers.1.weight', 'projection_head.layers.1.bias', 'projection_head.layers.1.running_mean', 'projection_head.layers.1.running_var', 'projection_head.layers.1.num_batches_tracked', 'projection_head.layers.3.weight', 'projection_head.layers.4.weight', 'projection_head.layers.4.bias', 'projection_head.layers.4.running_mean', 'projection_head.layers.4.running_var', 'projection_head.layers.4.num_batches_tracked', 'projection_head.layers.6.weight', 'projection_head.layers.7.running_mean', 'projection_head.layers.7.running_var', 'projection_head.layers.7.num_batches_tracked', 'prediction_head.layers.0.weight', 'prediction_head.layers.1.weight', 'prediction_head.layers.1.bias', 'prediction_head.layers.1.running_mean', 'prediction_head.layers.1.running_var', 'prediction_head.layers.1.num_batches_tracked', 'prediction_head.layers.3.weight', 'prediction_head.layers.3.bias']\n"
     ]
    }
   ],
   "source": [
    "\n",
    "args = {\"checkpoint_path\":\"../checkpoints_convnext_tiny/last.ckpt\",\n",
    "    \"num_classes\": 62,\n",
    "    \"freeze_backbone\": True,\n",
    "    \"batch_size\": 4,\n",
    "    \"img_size\": 224,\n",
    "\n",
    "       }\n",
    "# pretrained tiny has hierarchical fusion: at every layer MS +RGB is fused with attention\n",
    "\n",
    "pl_model =  MSRGBConvNeXtUPerNet(\n",
    "        num_classes=args[\"num_classes\"],  # Binary segmentation (background, foreground)\n",
    "        rgb_in_channels=3,\n",
    "        ms_in_channels=5,  # Adjust based on your MS data\n",
    "        model_size='tiny',  # Can be 'tiny', 'small', 'base', 'large'\n",
    "        fusion_strategy='hierarchical',  # 'early', 'late', 'hierarchical', 'progressive'\n",
    "        fusion_type='attention',  # 'concat', 'add', 'attention'\n",
    "        learning_rate=1e-3,\n",
    "        weight_decay=1e-4,\n",
    "        pretrained_backbone=args[\"checkpoint_path\"],  # Path to pretrained weights if available\n",
    "        freeze_backbone = args[\"freeze_backbone\"]\n",
    "    )"
   ]
  },
  {
   "cell_type": "code",
   "execution_count": null,
   "id": "b487f16c-09ef-415e-903f-c2b502ef7ea4",
   "metadata": {},
   "outputs": [],
   "source": [
    "\n"
   ]
  }
 ],
 "metadata": {
  "kernelspec": {
   "display_name": "Python 3 (ipykernel)",
   "language": "python",
   "name": "python3"
  },
  "language_info": {
   "codemirror_mode": {
    "name": "ipython",
    "version": 3
   },
   "file_extension": ".py",
   "mimetype": "text/x-python",
   "name": "python",
   "nbconvert_exporter": "python",
   "pygments_lexer": "ipython3",
   "version": "3.9.0"
  }
 },
 "nbformat": 4,
 "nbformat_minor": 5
}
